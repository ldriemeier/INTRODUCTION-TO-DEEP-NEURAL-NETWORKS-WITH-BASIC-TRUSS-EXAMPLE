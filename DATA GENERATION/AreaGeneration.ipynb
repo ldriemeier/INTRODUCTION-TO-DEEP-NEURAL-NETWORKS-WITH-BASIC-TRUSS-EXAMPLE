{
  "nbformat": 4,
  "nbformat_minor": 0,
  "metadata": {
    "colab": {
      "provenance": []
    },
    "kernelspec": {
      "name": "python3",
      "display_name": "Python 3"
    },
    "language_info": {
      "name": "python"
    }
  },
  "cells": [
    {
      "cell_type": "code",
      "source": [
        "import pandas as pd\n",
        "import csv\n",
        "import random\n",
        "from google.colab import files"
      ],
      "metadata": {
        "id": "akdVip4curdN"
      },
      "execution_count": 5,
      "outputs": []
    },
    {
      "cell_type": "code",
      "execution_count": 1,
      "metadata": {
        "id": "YZucGpGuuZiB"
      },
      "outputs": [],
      "source": [
        "random.seed(a=2)\n",
        "\n",
        "# As áreas estão entre 0.6 e-4 m^2 e 225.8 e-4 m^2\n",
        "with open('areas.csv', 'w', newline='') as f:\n",
        "    writer = csv.writer(f)\n",
        "    writer.writerow(['area_id', *['area{0}'.format(x) for x in range(1,11)]])\n",
        "    for i in range(520):\n",
        "        nums = [i]\n",
        "        for j in range(10):\n",
        "            num = random.random() * (225.8 - 0.6) + 0.6\n",
        "            nums.append(num)\n",
        "        writer.writerow((str(x) for x in nums))"
      ]
    },
    {
      "cell_type": "code",
      "source": [
        "df = pd.read_csv('areas.csv')\n",
        "df.head()"
      ],
      "metadata": {
        "id": "lTR7tdoku5W6"
      },
      "execution_count": null,
      "outputs": []
    },
    {
      "cell_type": "code",
      "source": [
        "df.to_csv('areas.csv')\n",
        "files.download('areas.csv')"
      ],
      "metadata": {
        "colab": {
          "base_uri": "https://localhost:8080/",
          "height": 17
        },
        "id": "KpNqmqFgvQWc",
        "outputId": "6b4b8eb8-89b9-4723-85bc-eb81eba0042e"
      },
      "execution_count": 6,
      "outputs": [
        {
          "output_type": "display_data",
          "data": {
            "text/plain": [
              "<IPython.core.display.Javascript object>"
            ],
            "application/javascript": [
              "\n",
              "    async function download(id, filename, size) {\n",
              "      if (!google.colab.kernel.accessAllowed) {\n",
              "        return;\n",
              "      }\n",
              "      const div = document.createElement('div');\n",
              "      const label = document.createElement('label');\n",
              "      label.textContent = `Downloading \"${filename}\": `;\n",
              "      div.appendChild(label);\n",
              "      const progress = document.createElement('progress');\n",
              "      progress.max = size;\n",
              "      div.appendChild(progress);\n",
              "      document.body.appendChild(div);\n",
              "\n",
              "      const buffers = [];\n",
              "      let downloaded = 0;\n",
              "\n",
              "      const channel = await google.colab.kernel.comms.open(id);\n",
              "      // Send a message to notify the kernel that we're ready.\n",
              "      channel.send({})\n",
              "\n",
              "      for await (const message of channel.messages) {\n",
              "        // Send a message to notify the kernel that we're ready.\n",
              "        channel.send({})\n",
              "        if (message.buffers) {\n",
              "          for (const buffer of message.buffers) {\n",
              "            buffers.push(buffer);\n",
              "            downloaded += buffer.byteLength;\n",
              "            progress.value = downloaded;\n",
              "          }\n",
              "        }\n",
              "      }\n",
              "      const blob = new Blob(buffers, {type: 'application/binary'});\n",
              "      const a = document.createElement('a');\n",
              "      a.href = window.URL.createObjectURL(blob);\n",
              "      a.download = filename;\n",
              "      div.appendChild(a);\n",
              "      a.click();\n",
              "      div.remove();\n",
              "    }\n",
              "  "
            ]
          },
          "metadata": {}
        },
        {
          "output_type": "display_data",
          "data": {
            "text/plain": [
              "<IPython.core.display.Javascript object>"
            ],
            "application/javascript": [
              "download(\"download_fcc1c1a0-4507-4cee-92e1-3912abd08b09\", \"areas.csv\", 99575)"
            ]
          },
          "metadata": {}
        }
      ]
    }
  ]
}